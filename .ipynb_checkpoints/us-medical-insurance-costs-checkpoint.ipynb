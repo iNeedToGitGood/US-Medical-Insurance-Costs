{
 "cells": [
  {
   "cell_type": "markdown",
   "metadata": {},
   "source": [
    "# U.S. Medical Insurance Costs"
   ]
  },
  {
   "cell_type": "markdown",
   "metadata": {},
   "source": [
    "Please see the README.md file in this repository for the explanation of this project."
   ]
  },
  {
   "cell_type": "markdown",
   "metadata": {},
   "source": [
    "I will begin by importing the dataset and saving the features of the dataset to variables for future use."
   ]
  },
  {
   "cell_type": "code",
   "execution_count": 1,
   "metadata": {},
   "outputs": [],
   "source": [
    "import csv\n",
    "listOfAges = []\n",
    "listOfSexes = []\n",
    "listOfBMIs = []\n",
    "listOfChildren = []\n",
    "listOfSmokers = []\n",
    "listOfRegions = []\n",
    "listOfCharges = []\n",
    "with open(\"insurance.csv\", newline='') as insuranceDataCSV:\n",
    "    dataReader = csv.DictReader(insuranceDataCSV)\n",
    "    for row in dataReader:\n",
    "        listOfAges.append(row['age'])\n",
    "        listOfSexes.append(row['sex'])\n",
    "        listOfBMIs.append(row['bmi'])\n",
    "        listOfChildren.append(row['children'])\n",
    "        listOfSmokers.append(row['smoker'])\n",
    "        listOfRegions.append(row['region'])\n",
    "        listOfCharges.append(row['charges'])"
   ]
  },
  {
   "cell_type": "markdown",
   "metadata": {},
   "source": [
    "# Time to analyze!\n",
    "### First, I will find the average age of the patients in the dataset. I have decided to round this to two decimal places."
   ]
  },
  {
   "cell_type": "code",
   "execution_count": 2,
   "metadata": {},
   "outputs": [
    {
     "name": "stdout",
     "output_type": "stream",
     "text": [
      "The average age of people in this dataset is 39.21 years old.\n"
     ]
    }
   ],
   "source": [
    "def average_age(listOfAges):\n",
    "    count = 0\n",
    "    totalAge = 0\n",
    "    for age in listOfAges:\n",
    "        count += 1\n",
    "        totalAge += float(age)\n",
    "    averageAge = totalAge / count\n",
    "    roundedAge = round(averageAge, 2)\n",
    "    return roundedAge\n",
    "print(\"The average age of people in this dataset is \" + str(average_age(listOfAges)) + \" years old.\")"
   ]
  },
  {
   "cell_type": "markdown",
   "metadata": {},
   "source": [
    "### Next, I will analyze where the majority of individuals are from. \n",
    "I will provide the breakdown of number of people in each area. I'm pretty sure there are just 4 regions in the dataset, but first I will check to confirm that."
   ]
  },
  {
   "cell_type": "code",
   "execution_count": 3,
   "metadata": {},
   "outputs": [
    {
     "name": "stdout",
     "output_type": "stream",
     "text": [
      "['southwest', 'southeast', 'northwest', 'northeast']\n"
     ]
    }
   ],
   "source": [
    "def possibleLocations(listOfRegions):\n",
    "    listOfAllRegions = []\n",
    "    for i in listOfRegions:\n",
    "        if i not in listOfAllRegions:\n",
    "            listOfAllRegions.append(i)\n",
    "    print(listOfAllRegions)\n",
    "possibleLocations(listOfRegions)\n",
    "\n",
    "#upon review, it might have been better if I made this function return a dictionary of the regions with values of 0.\n",
    "# then in the next fuction I could have just increased the value for the region key each time it occurred."
   ]
  },
  {
   "cell_type": "markdown",
   "metadata": {},
   "source": [
    "Looks like I was correct, there are just 4 regions. Next I will count how many people are from each region, and return the counts of each."
   ]
  },
  {
   "cell_type": "code",
   "execution_count": 4,
   "metadata": {},
   "outputs": [
    {
     "data": {
      "text/plain": [
       "{'South West': 325, 'South East': 364, 'North West': 325, 'North East': 324}"
      ]
     },
     "execution_count": 4,
     "metadata": {},
     "output_type": "execute_result"
    }
   ],
   "source": [
    "def peoplePerRegion(listOfRegions):\n",
    "    regionBreakdown = {}\n",
    "    southwestCount = 0\n",
    "    southeastCount = 0\n",
    "    northwestCount = 0\n",
    "    northeastCount = 0\n",
    "    #count how many time each region occurs\n",
    "    for i in listOfRegions:\n",
    "        if i == 'southwest': southwestCount += 1\n",
    "        elif i == 'southeast': southeastCount += 1\n",
    "        elif i == 'northwest': northwestCount += 1\n",
    "        elif i == 'northeast': northeastCount += 1\n",
    "    #put em in a dict\n",
    "    regionBreakdown[\"South West\"] = southwestCount\n",
    "    regionBreakdown[\"South East\"] = southeastCount\n",
    "    regionBreakdown[\"North West\"] = northwestCount\n",
    "    regionBreakdown[\"North East\"] = northeastCount\n",
    "    return regionBreakdown\n",
    "\n",
    "peoplePerRegion(listOfRegions)"
   ]
  },
  {
   "cell_type": "markdown",
   "metadata": {},
   "source": [
    "### Next up: Cost difference between smokers and non smokers"
   ]
  },
  {
   "cell_type": "code",
   "execution_count": 5,
   "metadata": {},
   "outputs": [],
   "source": [
    "# Guess I probably have to zip the list of smokers and list of charges together in a dict to keep them together? I tried to\n",
    "# write this like below:\n",
    "# def smokerCost(listOfSmokers,listOfCharges):\n",
    "#     smokerCount = 0\n",
    "#     nonsmokerCount = 0\n",
    "#     smokerCost = 0\n",
    "#     nonsmokerCost = 0\n",
    "#     for i in listOfSmokers:\n",
    "#         if i == 'yes':\n",
    "#             smokerCount += 1\n",
    "#             cost = listOfCharges[int(i)]\n",
    "#             smokerCost += cost\n",
    "#     print(smokerCount, smokerCost)    \n",
    "# smokerCost(listOfSmokers,listOfCharges)\n",
    "\n",
    "# but that was getting a \"TypeError: list indices must be integers or slices, not str\" because my value in list of smokers\n",
    "# isnt an int representing it's place in the list like my dumbass thought,its yes/no as I clearly knew \n",
    "# So I'll zip em and do it that way."
   ]
  },
  {
   "cell_type": "code",
   "execution_count": 6,
   "metadata": {},
   "outputs": [],
   "source": [
    "#Try two\n",
    "# smokerCostDict = {k: v for k,v in zip(listOfSmokers,listOfCharges)}\n",
    "#the above also doesn't work, really??\n",
    "# smokerCostDict = {}\n",
    "# smokerCostList = list(zip(listOfSmokers,listOfCharges))\n",
    "# for key,value in smokerCostList:\n",
    "#     smokerCostDict[key] = value\n",
    "# smokerCostDict\n",
    "# KINDA KNEW THAT WASN'T GOING TO WORK.... its doing the same thing as my first attempt in this cell, the long way...\n",
    "# So I guess I have to give each pair a unique key value, a dict of lists or dict of dicts would work as well I guess, IDK. Tomorrow"
   ]
  },
  {
   "cell_type": "code",
   "execution_count": 7,
   "metadata": {},
   "outputs": [],
   "source": [
    "# # I couldn't figure out how to setup a wireframe with my list to make a dict, but I realized I could use a range to do it the\n",
    "# # way I had been trying to above, so I did that... but now I want to figure out how to wireframe this my list to a dict.\n",
    "\n",
    "# def smokerCost(listOfSmokers,listOfCharges):\n",
    "#     smokerCount = 0\n",
    "#     nonsmokerCount = 0\n",
    "#     smokerCost = 0\n",
    "#     nonsmokerCost = 0\n",
    "#     for i in range(0, len(listOfSmokers)):\n",
    "#         if listOfSmokers[i] == 'yes':\n",
    "#             smokerCount += 1\n",
    "#             cost = listOfCharges[i]\n",
    "#             smokerCost += float(cost)\n",
    "#         elif listOfSmokers[i] == 'no':\n",
    "#             nonsmokerCount += 1\n",
    "#             cost = listOfCharges[i]\n",
    "#             nonsmokerCost += float(cost)\n",
    "#     return smokerCount, smokerCost, nonsmokerCount, nonsmokerCost\n",
    "    \n",
    "# smokerCount, smokerCost, nonsmokerCount, nonsmokerCost = smokerCost(listOfSmokers,listOfCharges)\n",
    "\n",
    "# print(smokerCount, smokerCost)\n",
    "# print(nonsmokerCount, nonsmokerCost)\n",
    "\n",
    "\n",
    "# # The above works I guess, but I don't really like it. I wanted a dict"
   ]
  },
  {
   "cell_type": "code",
   "execution_count": 8,
   "metadata": {},
   "outputs": [
    {
     "name": "stdout",
     "output_type": "stream",
     "text": [
      "There are 274 smokers, with a total cost of 8781763.52 dollars.\n",
      "There are 1064 non-smokers, with a total cost of 8974061.47 dollars.\n"
     ]
    }
   ],
   "source": [
    "#FIGURED OUT HOW TO DO IT THE WAY I WANTED!!! \n",
    "smokerCostList = list(zip(listOfSmokers,listOfCharges))\n",
    "frame = list(range(len(listOfSmokers)))\n",
    "smokerCostDict = {k: v for k,v in zip(frame,smokerCostList)}\n",
    "#print(smokerCostDict)\n",
    "\n",
    "# yay, I got the dict I wanted. Now to play with my dict\n",
    "\n",
    "def newSmokerCost(smokerCostDict):\n",
    "    smokerCount = 0\n",
    "    nonsmokerCount = 0\n",
    "    smokerCost = 0\n",
    "    nonsmokerCost = 0\n",
    "    for value in smokerCostDict.values():\n",
    "        if value[0] == 'yes':\n",
    "            smokerCount += 1\n",
    "            cost = value[1]\n",
    "            smokerCost += float(cost)\n",
    "        elif value[0] == 'no':\n",
    "            nonsmokerCount += 1\n",
    "            cost = value[1]\n",
    "            nonsmokerCost += float(cost)\n",
    "    return smokerCount, smokerCost, nonsmokerCount, nonsmokerCost\n",
    "    \n",
    "smokerCount, smokerCost, nonsmokerCount, nonsmokerCost = newSmokerCost(smokerCostDict)\n",
    "\n",
    "print(\"There are \" + str(smokerCount) + \" smokers, with a total cost of \" + str(round(smokerCost, 2)) + \" dollars.\")\n",
    "print(\"There are \" + str(nonsmokerCount) + \" non-smokers, with a total cost of \" + str(round(nonsmokerCost, 2)) + \" dollars.\")\n",
    "\n",
    "#The first way I wrote this fuction(in the last cell) requried less data manipulation before hand and the function itself was\n",
    "# basically the same. Glad I spent my time on this. At least I got to play with my dict. IDK which one to keep.\n",
    "# I guess this one cause I spent all this time on it, though I like that the other one was less lines of code"
   ]
  },
  {
   "cell_type": "code",
   "execution_count": 9,
   "metadata": {},
   "outputs": [
    {
     "name": "stdout",
     "output_type": "stream",
     "text": [
      "20.48% of people in this dataset are smokers.\n"
     ]
    }
   ],
   "source": [
    "# Now I have the data I need to find the diff, so I will find the diff:\n",
    "\n",
    "def smokerPercent(smokerCount, nonsmokerCount):\n",
    "    total = smokerCount + nonsmokerCount\n",
    "    smokerPercent = round((smokerCount / total) * 100, 2)\n",
    "    return smokerPercent\n",
    "        \n",
    "smokerPercent = smokerPercent(smokerCount, nonsmokerCount)\n",
    "print(str(smokerPercent) + \"% of people in this dataset are smokers.\")"
   ]
  },
  {
   "cell_type": "code",
   "execution_count": 10,
   "metadata": {},
   "outputs": [
    {
     "name": "stdout",
     "output_type": "stream",
     "text": [
      "49.46% of total costs are due to the 20.48% of smokers.\n"
     ]
    }
   ],
   "source": [
    "#I'll see what % of total costs the smokers make up\n",
    "\n",
    "def smokerCosts(smokerCost, nonsmokerCost):\n",
    "    total = smokerCost + nonsmokerCost\n",
    "    smokerCostPercent = round((smokerCost / total) * 100, 2)\n",
    "    return smokerCostPercent\n",
    "\n",
    "smokerCostPercent = smokerCosts(smokerCost, nonsmokerCost)\n",
    "print(str(smokerCostPercent) + \"% of total costs are due to the \" + str(smokerPercent) + \"% of smokers.\" )\n",
    "\n",
    "# that smokerCost function probably would have been a lot easier to figure out if I made it two parts like I did with % and cost"
   ]
  },
  {
   "cell_type": "code",
   "execution_count": 25,
   "metadata": {},
   "outputs": [
    {
     "name": "stdout",
     "output_type": "stream",
     "text": [
      "The average insurance cost for smokers is $32050.23.\n",
      "The average cost for non-smokers is $8434.27.\n",
      "The difference is the average smoker pays $23615.96 more than the average non-smoker.\n"
     ]
    }
   ],
   "source": [
    "# I didn't actually find the difference yet....\n",
    "costPerSmoker = smokerCost / smokerCount\n",
    "costPerNonsmoker = nonsmokerCost / nonsmokerCount\n",
    "difference = costPerSmoker - costPerNonsmoker\n",
    "print(\"The average insurance cost for smokers is $\" + str(round(costPerSmoker, 2)) + \".\")\n",
    "print(\"The average cost for non-smokers is $\" + str(round(costPerNonsmoker, 2)) + \".\")\n",
    "print(\"The difference is the average smoker pays $\" + str(round(difference, 2)) + \" more than the average non-smoker.\")"
   ]
  },
  {
   "cell_type": "markdown",
   "metadata": {},
   "source": [
    "### Next I will look at the average age for someone who has at least one child"
   ]
  },
  {
   "cell_type": "code",
   "execution_count": 50,
   "metadata": {},
   "outputs": [
    {
     "name": "stdout",
     "output_type": "stream",
     "text": [
      "The average age of someone with at least one kid is 39.78\n"
     ]
    }
   ],
   "source": [
    "# Guess it makes sense to do the same thing I just did above?\n",
    "# Will start with zipping the two relevant lists, and then making a dict with them\n",
    "kidsAgeList = list(zip(listOfAges,listOfChildren))\n",
    "frame = list(range(len(listOfAges)))\n",
    "kidsAgeDict = {k: v for k,v in zip(frame,kidsAgeList)}\n",
    "#print(kidsAgeDict)\n",
    "# now to sum the ages of people with kids\n",
    "def kidsAgeSum(kidsAgeDict):\n",
    "    hasKidsAgeSum = 0\n",
    "    hasKidsCount = 0\n",
    "    for value in kidsAgeDict.values():\n",
    "        if int(value[1]) != 0:\n",
    "            hasKidsAge = int(value[0])\n",
    "            hasKidsAgeSum += hasKidsAge\n",
    "            hasKidsCount += 1\n",
    "    return hasKidsAgeSum, hasKidsCount\n",
    "    \n",
    "hasKidsAgeSum, hasKidsCount = kidsAgeSum(kidsAgeDict)\n",
    "averageAgeWithKids = hasKidsAgeSum / hasKidsCount\n",
    "\n",
    "print(\"The average age of someone with at least one kid is \" + str(round(averageAgeWithKids, 2)))"
   ]
  },
  {
   "cell_type": "markdown",
   "metadata": {},
   "source": [
    "# Done with the four recommended tasks, onto the 7 I selected I guess\n",
    "### Next up, I'll find the average age of smokers"
   ]
  },
  {
   "cell_type": "code",
   "execution_count": 66,
   "metadata": {},
   "outputs": [
    {
     "name": "stdout",
     "output_type": "stream",
     "text": [
      "The average age of smokers is 38.51\n"
     ]
    }
   ],
   "source": [
    "smokerAgeList = list(zip(listOfSmokers,listOfAges))\n",
    "frame = list(range(len(listOfSmokers)))\n",
    "smokerAgeDict = {k: v for k,v in zip(frame,smokerAgeList)}\n",
    "#print(smokerAgeDict)\n",
    "def smokerAge(smokerAgeDict):\n",
    "    smokerCount = 0\n",
    "    smokerAgeSum = 0\n",
    "    for value in smokerAgeDict.values():\n",
    "        if value[0] == 'yes':\n",
    "            smokerCount += 1\n",
    "            smokerAge = int(value[1])\n",
    "            smokerAgeSum += smokerAge\n",
    "    return smokerCount, smokerAgeSum\n",
    "smokerCount, smokerAgeSum = smokerAge(smokerAgeDict)\n",
    "\n",
    "averageSmokerAge = round((smokerAgeSum / smokerCount), 2)\n",
    "print(\"The average age of smokers is \" + str(averageSmokerAge))"
   ]
  },
  {
   "cell_type": "markdown",
   "metadata": {},
   "source": [
    "### Do men or women smoke more? I think it is men"
   ]
  },
  {
   "cell_type": "code",
   "execution_count": 71,
   "metadata": {},
   "outputs": [
    {
     "name": "stdout",
     "output_type": "stream",
     "text": [
      "There are 676 males and 662 females in this dataset.\n",
      "There are 159 male smokers and 115 females smokers in this dataset.\n",
      "The ratio of male smokers in this dataset is 23.52%\n",
      "The ratio of female smokers in this dataset is 17.37%\n",
      "Males are more likely to smoke in this dataset.\n"
     ]
    }
   ],
   "source": [
    "sexySmokerList = list(zip(listOfSexes,listOfSmokers))\n",
    "frame = list(range(len(sexySmokerList)))\n",
    "sexySmokerDict = {k: v for k,v in zip(frame,sexySmokerList)}\n",
    "# print(sexySmokerList)\n",
    "def sexySmoker(sexySmokerDict):\n",
    "    maleCount = 0\n",
    "    femaleCount = 0\n",
    "    maleSmokerCount = 0\n",
    "    femaleSmokerCount = 0\n",
    "    for value in sexySmokerDict.values():\n",
    "        if value[0] == 'female':\n",
    "            femaleCount += 1\n",
    "            if value[1] == 'yes':\n",
    "                femaleSmokerCount += 1\n",
    "        elif value[0] == 'male':\n",
    "            maleCount += 1\n",
    "            if value[1] == 'yes':\n",
    "                maleSmokerCount += 1\n",
    "                \n",
    "                \n",
    "    return maleCount, femaleCount, maleSmokerCount, femaleSmokerCount\n",
    "\n",
    "maleCount, femaleCount, maleSmokerCount, femaleSmokerCount = sexySmoker(sexySmokerDict)\n",
    "\n",
    "maleSmokerRatio = round(((maleSmokerCount / maleCount) * 100), 2)\n",
    "femaleSmokerRatio = round(((femaleSmokerCount / femaleCount) * 100), 2)\n",
    "print(\"There are \" + str(maleCount) + \" males and \" + str(femaleCount) + \" females in this dataset.\")\n",
    "print(\"There are \" + str(maleSmokerCount) + \" male smokers and \" + str(femaleSmokerCount) + \" females smokers in this dataset.\")\n",
    "print(\"The ratio of male smokers in this dataset is \" + str(maleSmokerRatio) + \"%\")      \n",
    "print(\"The ratio of female smokers in this dataset is \" + str(femaleSmokerRatio) + \"%\")\n",
    "if femaleSmokerRatio > maleSmokerRatio:\n",
    "    print(\"Females are more likely to smoke in this dataset.\")\n",
    "elif maleSmokerRatio > femaleSmokerRatio:\n",
    "    print(\"Males are more likely to smoke in this dataset.\")"
   ]
  },
  {
   "cell_type": "markdown",
   "metadata": {},
   "source": [
    "### BMI of smokers VS nonsmokers. They say nicotine is an appetite suppressant? I think smokers will have a higher BMI."
   ]
  },
  {
   "cell_type": "code",
   "execution_count": 81,
   "metadata": {},
   "outputs": [
    {
     "name": "stdout",
     "output_type": "stream",
     "text": [
      "The average smoker BMI is 3070.84.\n",
      "The average non-smoker BMI is 3065.18.\n"
     ]
    }
   ],
   "source": [
    "smokerBMIList = list(zip(listOfSmokers,listOfBMIs))\n",
    "frame = list(range(len(smokerBMIList)))\n",
    "smokerBMIDict = {k: v for k,v in zip(frame,smokerBMIList)}\n",
    "#print(smokerBMIDict)\n",
    "\n",
    "# I already have the count of smokers and nonsmokers from something(newSmokerCost()) above, so I just need the BMIs of each here\n",
    "def smokerBMI(smokerBMIDict):\n",
    "    smokersBMI = 0\n",
    "    nonsmokersBMI = 0\n",
    "    for value in smokerBMIDict.values():\n",
    "        if value[0] == 'yes':\n",
    "            smokerBMI = float(value[1])\n",
    "            smokersBMI += smokerBMI\n",
    "        elif value[0] == 'no':\n",
    "            nonsmokerBMI = float(value[1])\n",
    "            nonsmokersBMI += nonsmokerBMI\n",
    "    return smokersBMI, nonsmokersBMI\n",
    "\n",
    "\n",
    "smokersBMI, nonsmokersBMI = smokerBMI(smokerBMIDict)\n",
    "\n",
    "#now that I have sums of the BMIs, I can use the counts of each to find avg.\n",
    "\n",
    "smokerBMIavg = round(((smokersBMI / smokerCount) * 100), 2)\n",
    "nonsmokerBMIavg = round(((nonsmokersBMI / nonsmokerCount) * 100), 2)\n",
    "print(\"The average smoker BMI is \" + str(smokerBMIavg) + \".\")\n",
    "print(\"The average non-smoker BMI is \" + str(nonsmokerBMIavg) + \".\")"
   ]
  },
  {
   "cell_type": "markdown",
   "metadata": {},
   "source": [
    "# The last set of things I thought to check, a few control type things.\n",
    "###  First up I'll check what percent of people have atleast 1 child in this dataset"
   ]
  },
  {
   "cell_type": "code",
   "execution_count": 93,
   "metadata": {},
   "outputs": [
    {
     "name": "stdout",
     "output_type": "stream",
     "text": [
      "There are 574 people with no kids in this dataset and 764 people that have at least 1 kid\n"
     ]
    }
   ],
   "source": [
    "def kidCheck(listOfChildren):\n",
    "    noKid = 0\n",
    "    hasKid = 0\n",
    "    for value in listOfChildren:\n",
    "        if value == '0':\n",
    "            noKid += 1\n",
    "        else:\n",
    "            hasKid += 1\n",
    "    return noKid, hasKid\n",
    "\n",
    "noKid, hasKid = kidCheck(listOfChildren)\n",
    "print(\"There are \" +str(noKid)+ \" people with no kids in this dataset and \" + str(hasKid) + \" people that have at least 1 kid\")\n",
    "       "
   ]
  },
  {
   "cell_type": "markdown",
   "metadata": {},
   "source": [
    "### Female vs Male count\n",
    "I know in the scope I said ratio, but that doesn't make sense. I can easily get the ratio if I want from the counts, and you can just look at the counts to see the ratio is close. Would be weird to say a ratio of 1.02 males per female. Maybe not. I'm not gonna do the math in python at this point."
   ]
  },
  {
   "cell_type": "code",
   "execution_count": 96,
   "metadata": {},
   "outputs": [
    {
     "name": "stdout",
     "output_type": "stream",
     "text": [
      "There are 676 males in this dataset and 662 females.\n"
     ]
    }
   ],
   "source": [
    "def sexChecker(listOfSexes):\n",
    "    maleCount = 0\n",
    "    femaleCount = 0\n",
    "    for value in listOfSexes:\n",
    "        if value == 'female':\n",
    "            femaleCount += 1\n",
    "        else:\n",
    "            maleCount += 1\n",
    "    return maleCount, femaleCount \n",
    "\n",
    "maleCount, femaleCount = sexChecker(listOfSexes)\n",
    "\n",
    "print(\"There are \" + str(maleCount) + \" males in this dataset and \" + str(femaleCount) + \" females.\")"
   ]
  },
  {
   "cell_type": "markdown",
   "metadata": {},
   "source": [
    "### Finally, what % of this dataset is smokers?\n",
    "I will again probably just go with raw number counts of each unless for some reason the numbers are weird and I feel like it"
   ]
  },
  {
   "cell_type": "code",
   "execution_count": 101,
   "metadata": {},
   "outputs": [
    {
     "name": "stdout",
     "output_type": "stream",
     "text": [
      "This dataset is 20.48% smokers.\n"
     ]
    }
   ],
   "source": [
    "# I already have smokerCount and nonsmokerCount actually, so I guess I will do the ratio here\n",
    "total = len(listOfSmokers)\n",
    "smokerPercent = round((smokerCount / total) * 100, 2)\n",
    "print(\"This dataset is \" + str(smokerPercent) + \"% smokers.\")"
   ]
  },
  {
   "cell_type": "markdown",
   "metadata": {},
   "source": [
    "# OK THANKS THIS PROJECT WAS LONG AND I JUST REPEATED A BUNCH OF STUFF\n",
    "hopefully i remember it now..."
   ]
  }
 ],
 "metadata": {
  "kernelspec": {
   "display_name": "Python 3 (ipykernel)",
   "language": "python",
   "name": "python3"
  },
  "language_info": {
   "codemirror_mode": {
    "name": "ipython",
    "version": 3
   },
   "file_extension": ".py",
   "mimetype": "text/x-python",
   "name": "python",
   "nbconvert_exporter": "python",
   "pygments_lexer": "ipython3",
   "version": "3.7.13"
  }
 },
 "nbformat": 4,
 "nbformat_minor": 4
}
